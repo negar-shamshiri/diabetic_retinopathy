{
 "cells": [
  {
   "cell_type": "code",
   "execution_count": null,
   "id": "36234d54",
   "metadata": {
    "scrolled": true
   },
   "outputs": [],
   "source": [
    "import tensorflow as tf\n",
    "from tensorflow.keras.models import Sequential, Model\n",
    "from tensorflow.keras.layers import Dense, Dropout, Flatten\n",
    "from tensorflow.keras.layers import Conv2D, MaxPooling2D\n",
    "from tensorflow.keras.layers import LeakyReLU, BatchNormalization\n",
    "import matplotlib.pyplot as plt# Train the model on training data\n",
    "from preProcessing import PreProcessing\n",
    "import numpy as np \n",
    "import matplotlib.pyplot as plt"
   ]
  },
  {
   "cell_type": "code",
   "execution_count": null,
   "id": "247f1800",
   "metadata": {},
   "outputs": [],
   "source": [
    "import pathlib\n",
    "from preProcessing import PreProcessing\n",
    "from PIL import Image\n",
    "import numpy as np \n",
    "from numpy import asarray\n",
    "\n",
    "train_images = []\n",
    "train_labels = []\n",
    "\n",
    "path = pathlib.Path(\".\" + \"/all-images/train\")\n",
    "for class_name in path.iterdir():\n",
    "    label = class_name.name\n",
    "    path = pathlib.Path(\".\" + \"/all-images/train\"+ f\"/{label}\")\n",
    "    for im in path.iterdir():\n",
    "        im = Image.open(im)\n",
    "        obj = PreProcessing(im)\n",
    "        final_image = obj.pre_processed()\n",
    "        final_image = final_image.resize((128, 128))\n",
    "        train_images.append(asarray(final_image))\n",
    "        train_labels.append(label)\n",
    "       \n",
    "train_images = np.array(train_images)\n",
    "train_labels = np.array(train_labels)"
   ]
  },
  {
   "cell_type": "code",
   "execution_count": null,
   "id": "8920e86b",
   "metadata": {},
   "outputs": [],
   "source": [
    "print(f\"do::::::::{len(train_images)}\") \n",
    "final_image.size"
   ]
  },
  {
   "cell_type": "code",
   "execution_count": null,
   "id": "98e99493",
   "metadata": {},
   "outputs": [],
   "source": [
    "test_images = []\n",
    "test_labels = []\n",
    "\n",
    "path = pathlib.Path(\".\" + \"/all-images/validation\")\n",
    "for class_name in path.iterdir():\n",
    "    label = class_name.name\n",
    "    path = pathlib.Path(\".\" + \"/all-images/validation\"+ f\"/{label}\")\n",
    "    for im in path.iterdir():\n",
    "        im = Image.open(im)\n",
    "        obj = PreProcessing(im)\n",
    "        final_image = obj.pre_processed()\n",
    "        final_image = final_image.resize((128, 128))\n",
    "        test_images.append(asarray(final_image))\n",
    "        test_labels.append(label)\n",
    "        \n",
    "test_images = np.array(test_images)\n",
    "test_labels = np.array(test_labels)"
   ]
  },
  {
   "cell_type": "code",
   "execution_count": null,
   "id": "e11d07b7",
   "metadata": {},
   "outputs": [],
   "source": [
    "print(f\"do::::::::{len(test_images)}\") \n",
    "final_image.size"
   ]
  },
  {
   "cell_type": "code",
   "execution_count": null,
   "id": "f60d4f69",
   "metadata": {},
   "outputs": [],
   "source": [
    "#encode labels\n",
    "from sklearn import preprocessing\n",
    "le = preprocessing.LabelEncoder()\n",
    "le.fit(test_labels)\n",
    "test_labels_encoded = le.transform(test_labels)\n",
    "le.fit(train_labels)\n",
    "train_labels_encoded = le.transform(train_labels)"
   ]
  },
  {
   "cell_type": "code",
   "execution_count": null,
   "id": "0637ee45",
   "metadata": {},
   "outputs": [],
   "source": [
    "len(test_labels_encoded)"
   ]
  },
  {
   "cell_type": "code",
   "execution_count": null,
   "id": "b50f112d",
   "metadata": {},
   "outputs": [],
   "source": [
    "#rename variables\n",
    "x_train, y_train, x_test, y_test = train_images, train_labels_encoded, test_images, test_labels_encoded\n",
    "\n",
    "#scalling pixel values  to between 0 and 1\n",
    "x_train, x_test = x_train/255.0, x_test/255.0 \n",
    "\n",
    "#one hot encode y vars for neural network\n",
    "from tensorflow.keras.utils import to_categorical\n",
    "y_train_one_hot = to_categorical(y_train)\n",
    "y_test_one_hot = to_categorical(y_test)\n",
    "\n",
    "#reshape x_train from 3 dims to 4 dims\n",
    "x_train = x_train.reshape(1058, 128, 128, 1)\n",
    "#reshape x_test from 3 dims to 4 dims\n",
    "x_test = x_test.reshape(454, 128, 128, 1)"
   ]
  },
  {
   "cell_type": "code",
   "execution_count": null,
   "id": "474ec725",
   "metadata": {},
   "outputs": [],
   "source": [
    "len(y_train_one_hot)"
   ]
  },
  {
   "cell_type": "code",
   "execution_count": null,
   "id": "c058a1b4",
   "metadata": {
    "scrolled": true
   },
   "outputs": [],
   "source": [
    "#neural network model \n",
    "\n",
    "feature_extractor = Sequential()\n",
    "\n",
    "feature_extractor.add(Conv2D(16, kernel_size=(6,6), padding = 'same', input_shape = (128, 128, 1)))\n",
    "feature_extractor.add(LeakyReLU(alpha=0.1))\n",
    "feature_extractor.add(BatchNormalization())\n",
    "feature_extractor.add(MaxPooling2D(pool_size=(2, 2), strides=2))\n",
    "feature_extractor.add(Dropout(0.5))\n",
    "\n",
    "feature_extractor.add(Conv2D(16, kernel_size=(5,5), padding = 'same', kernel_initializer = 'he_normal'))\n",
    "feature_extractor.add(LeakyReLU(alpha=0.1))\n",
    "feature_extractor.add(BatchNormalization())\n",
    "feature_extractor.add(MaxPooling2D(pool_size=(2, 2), strides=2))\n",
    "feature_extractor.add(Dropout(0.5))\n",
    "\n",
    "feature_extractor.add(Conv2D(16, kernel_size=(3,3), padding = 'same', kernel_initializer = 'he_normal'))\n",
    "feature_extractor.add(LeakyReLU(alpha=0.1))\n",
    "feature_extractor.add(BatchNormalization())\n",
    "feature_extractor.add(MaxPooling2D(pool_size=(2, 2), strides=2))\n",
    "feature_extractor.add(Dropout(0.5))\n",
    "\n",
    "feature_extractor.add(Flatten())"
   ]
  },
  {
   "cell_type": "code",
   "execution_count": null,
   "id": "bac585ae",
   "metadata": {},
   "outputs": [],
   "source": [
    "#add deep learning layers\n",
    "x = feature_extractor.output\n",
    "\n",
    "x = Dense(128, kernel_initializer = 'he_normal')(x)\n",
    "x = (LeakyReLU(alpha=0.1))(x)\n",
    "x = (Dropout(0.5))(x)\n",
    "\n",
    "x = Dense(128, kernel_initializer = 'he_normal')(x)\n",
    "x = (LeakyReLU(alpha=0.1))(x)\n",
    "x = (Dropout(0.5))(x)\n",
    "\n",
    "\n",
    "x = Dense(128, kernel_initializer = 'he_normal')(x)\n",
    "x = (LeakyReLU(alpha=0.1))(x)\n",
    "x = (Dropout(0.5))(x)\n",
    "\n",
    "\n",
    "prediction_layer = Dense(2, activation = 'softmax')(x)"
   ]
  },
  {
   "cell_type": "code",
   "execution_count": null,
   "id": "33c286be",
   "metadata": {
    "scrolled": false
   },
   "outputs": [],
   "source": [
    "#compile model\n",
    "cnn_model = Model(inputs=feature_extractor.input, outputs=prediction_layer)\n",
    "cnn_model.compile(optimizer=\"rmsprop\", loss='binary_crossentropy', metrics=['accuracy'])\n",
    "print(cnn_model.summary()) "
   ]
  },
  {
   "cell_type": "code",
   "execution_count": null,
   "id": "746ad14b",
   "metadata": {
    "scrolled": true
   },
   "outputs": [],
   "source": [
    "#Train the CNN model\n",
    "history = cnn_model.fit(x_train, y_train_one_hot, epochs=100, validation_data = (x_test, y_test_one_hot))"
   ]
  },
  {
   "cell_type": "code",
   "execution_count": null,
   "id": "f876c30e",
   "metadata": {},
   "outputs": [],
   "source": [
    "plt.figure(1)\n",
    "\n",
    "# summarize history for accuracy\n",
    "\n",
    "plt.subplot(211)\n",
    "plt.plot(history.history['accuracy'])\n",
    "plt.plot(history.history['val_accuracy'])\n",
    "plt.title('Model Accuracy')\n",
    "plt.ylabel('Accuracy')\n",
    "plt.xlabel('Epoch')\n",
    "plt.legend(['Training', 'Validation'], loc='lower right')\n",
    "\n",
    "# summarize history for loss\n",
    "\n",
    "plt.subplot(212)\n",
    "plt.plot(history.history['loss'])\n",
    "plt.plot(history.history['val_loss'])\n",
    "plt.title('Model Loss')\n",
    "plt.ylabel('Loss')\n",
    "plt.xlabel('Epoch')\n",
    "plt.legend(['Training', 'Validation'], loc='upper right')\n",
    "\n",
    "plt.tight_layout()\n",
    "\n",
    "plt.show()"
   ]
  },
  {
   "cell_type": "code",
   "execution_count": null,
   "id": "913625f7",
   "metadata": {},
   "outputs": [],
   "source": [
    "prediction_NN = cnn_model.predict(x_test)\n",
    "prediction_NN = np.argmax(prediction_NN, axis=-1)\n",
    "prediction_NN = le.inverse_transform(prediction_NN)"
   ]
  },
  {
   "cell_type": "code",
   "execution_count": null,
   "id": "f6eb1bbc",
   "metadata": {},
   "outputs": [],
   "source": [
    "#Confusion Matrix - verify accuracy of each class\n",
    "from sklearn.metrics import confusion_matrix\n",
    "import seaborn as sns\n",
    "cm = confusion_matrix(test_labels, prediction_NN)\n",
    "print(cm)\n",
    "sns.heatmap(cm, annot=True)\n",
    "\n",
    "total=sum(sum(cm))\n",
    "#####from confusion matrix calculate accuracy\n",
    "accuracy=(cm[0,0]+cm[1,1])/total\n",
    "print ('Accuracy : ', accuracy)\n",
    "\n",
    "sensitivity = cm[0,0]/(cm[0,0]+cm[1,0])\n",
    "print('Sensitivity : ', sensitivity)\n",
    "\n",
    "specificity = cm[1,1]/(cm[0,1]+cm[1,1])\n",
    "print('Specificity : ', specificity)"
   ]
  },
  {
   "cell_type": "code",
   "execution_count": null,
   "id": "83e0b34a",
   "metadata": {},
   "outputs": [],
   "source": [
    "################################\n",
    "#Now, use features from convolutional network for RF\n",
    "X_for_RF = feature_extractor.predict(x_train) #This is out X input to RF"
   ]
  },
  {
   "cell_type": "code",
   "execution_count": null,
   "id": "9ac5dea6",
   "metadata": {},
   "outputs": [],
   "source": [
    "#RANDOM FOREST\n",
    "from sklearn.ensemble import RandomForestClassifier\n",
    "RF_model = RandomForestClassifier(n_estimators = 200)"
   ]
  },
  {
   "cell_type": "code",
   "execution_count": null,
   "id": "31c5b545",
   "metadata": {},
   "outputs": [],
   "source": [
    "# Train the model on training data\n",
    "RF_model.fit(X_for_RF, y_train) #For sklearn no one hot encoding"
   ]
  },
  {
   "cell_type": "code",
   "execution_count": null,
   "id": "b35dd758",
   "metadata": {},
   "outputs": [],
   "source": [
    "#Send test data through same feature extractor process\n",
    "X_test_feature = feature_extractor.predict(x_test)"
   ]
  },
  {
   "cell_type": "code",
   "execution_count": null,
   "id": "866f3163",
   "metadata": {},
   "outputs": [],
   "source": [
    "#Now predict using the trained RF model. \n",
    "prediction_RF = RF_model.predict(X_test_feature)"
   ]
  },
  {
   "cell_type": "code",
   "execution_count": null,
   "id": "2d3a1ff6",
   "metadata": {},
   "outputs": [],
   "source": [
    "#Inverse le transform to get original label back. \n",
    "prediction_RF = le.inverse_transform(prediction_RF)"
   ]
  },
  {
   "cell_type": "code",
   "execution_count": null,
   "id": "a1c1ad7b",
   "metadata": {
    "scrolled": true
   },
   "outputs": [],
   "source": [
    "#Print overall accuracy\n",
    "from sklearn import metrics\n",
    "print (\"Accuracy = \", metrics.accuracy_score(test_labels, prediction_RF))"
   ]
  },
  {
   "cell_type": "code",
   "execution_count": null,
   "id": "579a77be",
   "metadata": {},
   "outputs": [],
   "source": [
    "#Confusion Matrix - verify accuracy of each class\n",
    "cm = confusion_matrix(test_labels, prediction_RF)\n",
    "print(cm)\n",
    "sns.heatmap(cm, annot=True)\n",
    "\n",
    "total=sum(sum(cm))\n",
    "#####from confusion matrix calculate accuracy\n",
    "accuracy=(cm[0,0]+cm[1,1])/total\n",
    "print ('Accuracy : ', accuracy)\n",
    "\n",
    "sensitivity = cm[0,0]/(cm[0,0]+cm[1,0])\n",
    "print('Sensitivity : ', sensitivity)\n",
    "\n",
    "specificity = cm[1,1]/(cm[0,1]+cm[1,1])\n",
    "print('Specificity : ', specificity)"
   ]
  },
  {
   "cell_type": "code",
   "execution_count": null,
   "id": "739fbdfa",
   "metadata": {},
   "outputs": [],
   "source": [
    "#Now, use features from convolutional network for knn\n",
    "X_for_knn = feature_extractor.predict(x_train)"
   ]
  },
  {
   "cell_type": "code",
   "execution_count": null,
   "id": "4359af11",
   "metadata": {},
   "outputs": [],
   "source": [
    "################\n",
    "#knn\n",
    "from sklearn.neighbors import KNeighborsClassifier\n",
    "knn_model = KNeighborsClassifier(n_neighbors=3)"
   ]
  },
  {
   "cell_type": "code",
   "execution_count": null,
   "id": "e9ef491a",
   "metadata": {},
   "outputs": [],
   "source": [
    "# Train the model on training data\n",
    "knn_model.fit(X_for_knn, y_train)"
   ]
  },
  {
   "cell_type": "code",
   "execution_count": null,
   "id": "e8f12073",
   "metadata": {},
   "outputs": [],
   "source": [
    "#Send test data through same feature extractor process\n",
    "X_test_feature = feature_extractor.predict(x_test)"
   ]
  },
  {
   "cell_type": "code",
   "execution_count": null,
   "id": "1dc801e2",
   "metadata": {},
   "outputs": [],
   "source": [
    "#Now predict using the trained knn model. \n",
    "prediction_knn = knn_model.predict(X_test_feature)"
   ]
  },
  {
   "cell_type": "code",
   "execution_count": null,
   "id": "d9b327de",
   "metadata": {},
   "outputs": [],
   "source": [
    "#Inverse le transform to get original label back. \n",
    "prediction_knn = le.inverse_transform(prediction_knn)"
   ]
  },
  {
   "cell_type": "code",
   "execution_count": null,
   "id": "228f6e97",
   "metadata": {},
   "outputs": [],
   "source": [
    "#Print overall accuracy\n",
    "from sklearn import metrics\n",
    "print (\"Accuracy = \", metrics.accuracy_score(test_labels, prediction_knn))"
   ]
  },
  {
   "cell_type": "code",
   "execution_count": null,
   "id": "62caa120",
   "metadata": {},
   "outputs": [],
   "source": [
    "#Confusion Matrix - verify accuracy of each class\n",
    "cm = confusion_matrix(test_labels, prediction_knn)\n",
    "print(cm)\n",
    "sns.heatmap(cm, annot=True)\n",
    "\n",
    "total=sum(sum(cm))\n",
    "#####from confusion matrix calculate accuracy\n",
    "accuracy=(cm[0,0]+cm[1,1])/total\n",
    "print ('Accuracy : ', accuracy)\n",
    "\n",
    "sensitivity = cm[0,0]/(cm[0,0]+cm[1,0])\n",
    "print('Sensitivity : ', sensitivity)\n",
    "\n",
    "specificity = cm[1,1]/(cm[0,1]+cm[1,1])\n",
    "print('Specificity : ', specificity)"
   ]
  },
  {
   "cell_type": "code",
   "execution_count": null,
   "id": "9fa0883a",
   "metadata": {},
   "outputs": [],
   "source": [
    "#Now, use features from convolutional network for adaboost\n",
    "X_for_adaboost = feature_extractor.predict(x_train)"
   ]
  },
  {
   "cell_type": "code",
   "execution_count": null,
   "id": "c6a1146c",
   "metadata": {},
   "outputs": [],
   "source": [
    "##############\n",
    "#AdaBoost\n",
    "from sklearn.ensemble import AdaBoostClassifier\n",
    "adaboost_model = AdaBoostClassifier(n_estimators = 100)"
   ]
  },
  {
   "cell_type": "code",
   "execution_count": null,
   "id": "b7513ab7",
   "metadata": {},
   "outputs": [],
   "source": [
    "# Train the model on training data\n",
    "adaboost_model.fit(X_for_adaboost, y_train)"
   ]
  },
  {
   "cell_type": "code",
   "execution_count": null,
   "id": "8f05f395",
   "metadata": {},
   "outputs": [],
   "source": [
    "#Send test data through same feature extractor process\n",
    "X_test_feature = feature_extractor.predict(x_test)"
   ]
  },
  {
   "cell_type": "code",
   "execution_count": null,
   "id": "1046c862",
   "metadata": {},
   "outputs": [],
   "source": [
    "#Now predict using the trained adaboost model. \n",
    "prediction_adaboost = adaboost_model.predict(X_test_feature)"
   ]
  },
  {
   "cell_type": "code",
   "execution_count": null,
   "id": "e27f5ff8",
   "metadata": {},
   "outputs": [],
   "source": [
    "#Inverse le transform to get original label back. \n",
    "prediction_adaboost = le.inverse_transform(prediction_adaboost)"
   ]
  },
  {
   "cell_type": "code",
   "execution_count": null,
   "id": "025cd142",
   "metadata": {},
   "outputs": [],
   "source": [
    "#Print overall accuracy\n",
    "from sklearn import metrics\n",
    "print (\"Accuracy = \", metrics.accuracy_score(test_labels, prediction_adaboost))"
   ]
  },
  {
   "cell_type": "code",
   "execution_count": null,
   "id": "4b06b693",
   "metadata": {},
   "outputs": [],
   "source": [
    "#Confusion Matrix - verify accuracy of each class\n",
    "cm = confusion_matrix(test_labels, prediction_adaboost)\n",
    "print(cm)\n",
    "sns.heatmap(cm, annot=True)\n",
    "\n",
    "total=sum(sum(cm))\n",
    "#####from confusion matrix calculate accuracy\n",
    "accuracy=(cm[0,0]+cm[1,1])/total\n",
    "print ('Accuracy : ', accuracy)\n",
    "\n",
    "sensitivity = cm[0,0]/(cm[0,0]+cm[1,0])\n",
    "print('Sensitivity : ', sensitivity)\n",
    "\n",
    "specificity = cm[1,1]/(cm[0,1]+cm[1,1])\n",
    "print('Specificity : ', specificity)"
   ]
  },
  {
   "cell_type": "code",
   "execution_count": null,
   "id": "b64795e3",
   "metadata": {},
   "outputs": [],
   "source": [
    "#Now, use features from convolutional network for DecisionTreeClassifier-dtc\n",
    "X_for_dtc = feature_extractor.predict(x_train)"
   ]
  },
  {
   "cell_type": "code",
   "execution_count": null,
   "id": "9f37af1a",
   "metadata": {},
   "outputs": [],
   "source": [
    "##############\n",
    "#DecisionTreeClassifier\n",
    "from sklearn.tree import DecisionTreeClassifier\n",
    "dtc_model = DecisionTreeClassifier(random_state = 0)"
   ]
  },
  {
   "cell_type": "code",
   "execution_count": null,
   "id": "f217098d",
   "metadata": {},
   "outputs": [],
   "source": [
    "# Train the model on training data\n",
    "dtc_model.fit(X_for_dtc, y_train)"
   ]
  },
  {
   "cell_type": "code",
   "execution_count": null,
   "id": "f3dc9087",
   "metadata": {},
   "outputs": [],
   "source": [
    "#Send test data through same feature extractor process\n",
    "X_test_feature = feature_extractor.predict(x_test)"
   ]
  },
  {
   "cell_type": "code",
   "execution_count": null,
   "id": "4c2818fd",
   "metadata": {},
   "outputs": [],
   "source": [
    "#Now predict using the trained dtc model. \n",
    "prediction_dtc = dtc_model.predict(X_test_feature)"
   ]
  },
  {
   "cell_type": "code",
   "execution_count": null,
   "id": "aff4083f",
   "metadata": {},
   "outputs": [],
   "source": [
    "#Inverse le transform to get original label back. \n",
    "prediction_dtc = le.inverse_transform(prediction_dtc)"
   ]
  },
  {
   "cell_type": "code",
   "execution_count": null,
   "id": "aec4c20c",
   "metadata": {},
   "outputs": [],
   "source": [
    "#Print overall accuracy\n",
    "from sklearn import metrics\n",
    "print (\"Accuracy = \", metrics.accuracy_score(test_labels, prediction_dtc))"
   ]
  },
  {
   "cell_type": "code",
   "execution_count": null,
   "id": "e8e41877",
   "metadata": {},
   "outputs": [],
   "source": [
    "#Confusion Matrix - verify accuracy of each class\n",
    "cm = confusion_matrix(test_labels, prediction_dtc)\n",
    "print(cm)\n",
    "sns.heatmap(cm, annot=True)\n",
    "\n",
    "total=sum(sum(cm))\n",
    "#####from confusion matrix calculate accuracy\n",
    "accuracy=(cm[0,0]+cm[1,1])/total\n",
    "print ('Accuracy : ', accuracy)\n",
    "\n",
    "sensitivity = cm[0,0]/(cm[0,0]+cm[1,0])\n",
    "print('Sensitivity : ', sensitivity)\n",
    "\n",
    "specificity = cm[1,1]/(cm[0,1]+cm[1,1])\n",
    "print('Specificity : ', specificity)"
   ]
  },
  {
   "cell_type": "code",
   "execution_count": null,
   "id": "4b516cf7",
   "metadata": {},
   "outputs": [],
   "source": [
    "#Now, use features from convolutional network for LogisticRegression-lg\n",
    "X_for_lg = feature_extractor.predict(x_train)"
   ]
  },
  {
   "cell_type": "code",
   "execution_count": null,
   "id": "1a62207c",
   "metadata": {},
   "outputs": [],
   "source": [
    "##############\n",
    "#LogisticRegression\n",
    "from sklearn.linear_model import LogisticRegression\n",
    "lg_model = LogisticRegression(random_state = 0)"
   ]
  },
  {
   "cell_type": "code",
   "execution_count": null,
   "id": "48231d8e",
   "metadata": {},
   "outputs": [],
   "source": [
    "# Train the model on training data\n",
    "lg_model.fit(X_for_lg, y_train)"
   ]
  },
  {
   "cell_type": "code",
   "execution_count": null,
   "id": "7af2bd5d",
   "metadata": {},
   "outputs": [],
   "source": [
    "#Send test data through same feature extractor process\n",
    "X_test_feature = feature_extractor.predict(x_test)"
   ]
  },
  {
   "cell_type": "code",
   "execution_count": null,
   "id": "9a502b05",
   "metadata": {},
   "outputs": [],
   "source": [
    "#Now predict using the trained lg model. \n",
    "prediction_lg = lg_model.predict(X_test_feature)"
   ]
  },
  {
   "cell_type": "code",
   "execution_count": null,
   "id": "4065640e",
   "metadata": {},
   "outputs": [],
   "source": [
    "#Inverse le transform to get original label back. \n",
    "prediction_lg = le.inverse_transform(prediction_lg)"
   ]
  },
  {
   "cell_type": "code",
   "execution_count": null,
   "id": "8ac0b036",
   "metadata": {},
   "outputs": [],
   "source": [
    "#Print overall accuracy\n",
    "from sklearn import metrics\n",
    "print (\"Accuracy = \", metrics.accuracy_score(test_labels, prediction_lg))"
   ]
  },
  {
   "cell_type": "code",
   "execution_count": null,
   "id": "4bf35217",
   "metadata": {},
   "outputs": [],
   "source": [
    "#Confusion Matrix - verify accuracy of each class\n",
    "cm = confusion_matrix(test_labels, prediction_lg)\n",
    "print(cm)\n",
    "sns.heatmap(cm, annot=True)\n",
    "\n",
    "total=sum(sum(cm))\n",
    "#####from confusion matrix calculate accuracy\n",
    "accuracy=(cm[0,0]+cm[1,1])/total\n",
    "print ('Accuracy : ', accuracy)\n",
    "\n",
    "sensitivity = cm[0,0]/(cm[0,0]+cm[1,0])\n",
    "print('Sensitivity : ', sensitivity)\n",
    "\n",
    "specificity = cm[1,1]/(cm[0,1]+cm[1,1])\n",
    "print('Specificity : ', specificity)"
   ]
  },
  {
   "cell_type": "code",
   "execution_count": null,
   "id": "ae2c5041",
   "metadata": {},
   "outputs": [],
   "source": [
    "#Now, use features from convolutional network for SupportVectorMachine-svm\n",
    "X_for_svm = feature_extractor.predict(x_train)"
   ]
  },
  {
   "cell_type": "code",
   "execution_count": null,
   "id": "cc6b3a72",
   "metadata": {},
   "outputs": [],
   "source": [
    "##############\n",
    "#SupportVectorMachine\n",
    "from sklearn import svm\n",
    "svm_model = svm.SVC()"
   ]
  },
  {
   "cell_type": "code",
   "execution_count": null,
   "id": "4924bceb",
   "metadata": {},
   "outputs": [],
   "source": [
    "# Train the model on training data\n",
    "svm_model.fit(X_for_svm, y_train)"
   ]
  },
  {
   "cell_type": "code",
   "execution_count": null,
   "id": "ec8a5be6",
   "metadata": {},
   "outputs": [],
   "source": [
    "#Send test data through same feature extractor process\n",
    "X_test_feature = feature_extractor.predict(x_test)"
   ]
  },
  {
   "cell_type": "code",
   "execution_count": null,
   "id": "f7bd302c",
   "metadata": {},
   "outputs": [],
   "source": [
    "#Now predict using the trained svm model. \n",
    "prediction_svm = svm_model.predict(X_test_feature)"
   ]
  },
  {
   "cell_type": "code",
   "execution_count": null,
   "id": "b77eb3cf",
   "metadata": {},
   "outputs": [],
   "source": [
    "#Inverse le transform to get original label back. \n",
    "prediction_svm = le.inverse_transform(prediction_svm)"
   ]
  },
  {
   "cell_type": "code",
   "execution_count": null,
   "id": "f47a5160",
   "metadata": {},
   "outputs": [],
   "source": [
    "#Print overall accuracy\n",
    "from sklearn import metrics\n",
    "print (\"Accuracy = \", metrics.accuracy_score(test_labels, prediction_svm))"
   ]
  },
  {
   "cell_type": "code",
   "execution_count": null,
   "id": "b6bd2643",
   "metadata": {},
   "outputs": [],
   "source": [
    "#Confusion Matrix - verify accuracy of each class\n",
    "cm = confusion_matrix(test_labels, prediction_svm)\n",
    "print(cm)\n",
    "sns.heatmap(cm, annot=True)\n",
    "\n",
    "total=sum(sum(cm))\n",
    "#####from confusion matrix calculate accuracy\n",
    "accuracy=(cm[0,0]+cm[1,1])/total\n",
    "print ('Accuracy : ', accuracy)\n",
    "\n",
    "sensitivity = cm[0,0]/(cm[0,0]+cm[1,0])\n",
    "print('Sensitivity : ', sensitivity)\n",
    "\n",
    "specificity = cm[1,1]/(cm[0,1]+cm[1,1])\n",
    "print('Specificity : ', specificity)"
   ]
  },
  {
   "cell_type": "code",
   "execution_count": null,
   "id": "1c62cff3",
   "metadata": {},
   "outputs": [],
   "source": []
  },
  {
   "cell_type": "code",
   "execution_count": null,
   "id": "89bb817d",
   "metadata": {},
   "outputs": [],
   "source": []
  }
 ],
 "metadata": {
  "interpreter": {
   "hash": "a1244728f1b910d56add82ded509326dae795fce3123792214d16ad6022fb131"
  },
  "kernelspec": {
   "display_name": "Python [conda env:tensorflow] *",
   "language": "python",
   "name": "conda-env-tensorflow-py"
  },
  "language_info": {
   "codemirror_mode": {
    "name": "ipython",
    "version": 3
   },
   "file_extension": ".py",
   "mimetype": "text/x-python",
   "name": "python",
   "nbconvert_exporter": "python",
   "pygments_lexer": "ipython3",
   "version": "3.8.13"
  }
 },
 "nbformat": 4,
 "nbformat_minor": 5
}
